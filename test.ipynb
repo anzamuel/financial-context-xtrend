{
 "cells": [
  {
   "cell_type": "code",
   "execution_count": 1,
   "id": "cf2f3b75",
   "metadata": {},
   "outputs": [],
   "source": [
    "import polars as pl\n",
    "\n",
    "data = pl.read_parquet(\"dataset_cpd_contexts_valid\\\\AN\\\\context_000_AN_20150107_20150209.parquet\")"
   ]
  },
  {
   "cell_type": "code",
   "execution_count": 2,
   "id": "e5ea2378",
   "metadata": {},
   "outputs": [
    {
     "name": "stdout",
     "output_type": "stream",
     "text": [
      "shape: (5, 10)\n",
      "┌───────────┬───────────┬───────────┬───────────┬───┬───────────┬───────────┬───────────┬──────────┐\n",
      "│ norm_dail ┆ norm_mont ┆ norm_quar ┆ norm_bian ┆ … ┆ macd_16_4 ┆ macd_32_9 ┆ next_day_ ┆ date     │\n",
      "│ y_return  ┆ hly_retur ┆ terly_ret ┆ nual_retu ┆   ┆ 8         ┆ 6         ┆ norm_retu ┆ ---      │\n",
      "│ ---       ┆ n         ┆ urn       ┆ rn        ┆   ┆ ---       ┆ ---       ┆ rn        ┆ datetime │\n",
      "│ f64       ┆ ---       ┆ ---       ┆ ---       ┆   ┆ f64       ┆ f64       ┆ ---       ┆ [ns]     │\n",
      "│           ┆ f64       ┆ f64       ┆ f64       ┆   ┆           ┆           ┆ f64       ┆          │\n",
      "╞═══════════╪═══════════╪═══════════╪═══════════╪═══╪═══════════╪═══════════╪═══════════╪══════════╡\n",
      "│ -0.638965 ┆ -1.182822 ┆ -1.924476 ┆ -2.331489 ┆ … ┆ -1.311725 ┆ -1.199229 ┆ 0.715455  ┆ 2015-01- │\n",
      "│           ┆           ┆           ┆           ┆   ┆           ┆           ┆           ┆ 07       │\n",
      "│           ┆           ┆           ┆           ┆   ┆           ┆           ┆           ┆ 00:00:00 │\n",
      "│ 0.715455  ┆ -0.893222 ┆ -1.906166 ┆ -2.237609 ┆ … ┆ -1.299785 ┆ -1.203798 ┆ 2.091625  ┆ 2015-01- │\n",
      "│           ┆           ┆           ┆           ┆   ┆           ┆           ┆           ┆ 08       │\n",
      "│           ┆           ┆           ┆           ┆   ┆           ┆           ┆           ┆ 00:00:00 │\n",
      "│ 2.091625  ┆ -0.40789  ┆ -1.374938 ┆ -1.897175 ┆ … ┆ -1.276639 ┆ -1.206063 ┆ -0.816927 ┆ 2015-01- │\n",
      "│           ┆           ┆           ┆           ┆   ┆           ┆           ┆           ┆ 09       │\n",
      "│           ┆           ┆           ┆           ┆   ┆           ┆           ┆           ┆ 00:00:00 │\n",
      "│ -0.816927 ┆ -0.54468  ┆ -1.322319 ┆ -1.985766 ┆ … ┆ -1.253422 ┆ -1.204259 ┆ -0.208576 ┆ 2015-01- │\n",
      "│           ┆           ┆           ┆           ┆   ┆           ┆           ┆           ┆ 12       │\n",
      "│           ┆           ┆           ┆           ┆   ┆           ┆           ┆           ┆ 00:00:00 │\n",
      "│ -0.208576 ┆ -0.411018 ┆ -1.495847 ┆ -2.008242 ┆ … ┆ -1.235476 ┆ -1.206283 ┆ -0.141541 ┆ 2015-01- │\n",
      "│           ┆           ┆           ┆           ┆   ┆           ┆           ┆           ┆ 13       │\n",
      "│           ┆           ┆           ┆           ┆   ┆           ┆           ┆           ┆ 00:00:00 │\n",
      "└───────────┴───────────┴───────────┴───────────┴───┴───────────┴───────────┴───────────┴──────────┘\n"
     ]
    }
   ],
   "source": [
    "print(data.head())"
   ]
  },
  {
   "cell_type": "code",
   "execution_count": 21,
   "id": "ada0949b",
   "metadata": {},
   "outputs": [
    {
     "name": "stdout",
     "output_type": "stream",
     "text": [
      "['date', 'close', 'norm_daily_return', 'norm_monthly_return', 'norm_quarterly_return', 'norm_biannual_return', 'norm_annual_return', 'macd_8_24', 'macd_16_48', 'macd_32_96', 'next_day_norm_return', 'cp_location', 'cp_location_norm', 'cp_score', 't']\n"
     ]
    }
   ],
   "source": [
    "print(data.columns)"
   ]
  },
  {
   "cell_type": "code",
   "execution_count": 27,
   "id": "7c1f88b3",
   "metadata": {},
   "outputs": [],
   "source": [
    "import os\n",
    "import polars as pl\n",
    "\n",
    "input_base = \"dataset_cpd_contexts\"\n",
    "output_base = \"features\"\n",
    "os.makedirs(output_base, exist_ok=True)\n",
    "\n",
    "for ticker in os.listdir(input_base):\n",
    "    ticker_path = os.path.join(input_base, ticker)\n",
    "    if os.path.isdir(ticker_path):\n",
    "        parquet_files = [\n",
    "            os.path.join(ticker_path, f)\n",
    "            for f in os.listdir(ticker_path)\n",
    "            if f.endswith(\".parquet\")\n",
    "        ]\n",
    "        if parquet_files:\n",
    "            dfs = [pl.read_parquet(f) for f in parquet_files]\n",
    "            ticker_data = pl.concat(dfs)\n",
    "            ticker_data.write_csv(os.path.join(output_base, f\"{ticker}.csv\"))"
   ]
  },
  {
   "cell_type": "code",
   "execution_count": 29,
   "id": "5af557ca",
   "metadata": {},
   "outputs": [
    {
     "name": "stdout",
     "output_type": "stream",
     "text": [
      "features.csv does not exist.\n"
     ]
    }
   ],
   "source": [
    "if os.path.exists(features_csv_path):\n",
    "    features_df = pl.read_csv(features_csv_path)\n",
    "    has_nan = features_df.null_count().to_series().sum() > 0\n",
    "    print(\"NaN values present:\" if has_nan else \"No NaN values found.\")\n",
    "else:\n",
    "    print(\"features.csv does not exist.\")\n"
   ]
  }
 ],
 "metadata": {
  "kernelspec": {
   "display_name": ".venv",
   "language": "python",
   "name": "python3"
  },
  "language_info": {
   "codemirror_mode": {
    "name": "ipython",
    "version": 3
   },
   "file_extension": ".py",
   "mimetype": "text/x-python",
   "name": "python",
   "nbconvert_exporter": "python",
   "pygments_lexer": "ipython3",
   "version": "3.13.3"
  }
 },
 "nbformat": 4,
 "nbformat_minor": 5
}
